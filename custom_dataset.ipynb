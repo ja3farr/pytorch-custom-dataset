{
 "cells": [
  {
   "cell_type": "code",
   "execution_count": 1,
   "id": "e1de0f18-ed1a-46af-a939-e4fad469fc59",
   "metadata": {},
   "outputs": [],
   "source": [
    "import torch\n",
    "from torch import nn\n",
    "from torch.utils.data import Dataset\n",
    "from torch.utils.data import DataLoader\n",
    "from torchvision import transforms\n",
    "from torchvision.transforms import *\n",
    "import matplotlib.pyplot as plt\n",
    "import cv2\n",
    "import pandas as pd\n",
    "from torchvision.io import read_image\n",
    "import os\n",
    "from torchvision.utils import save_image\n",
    "import numpy as np\n",
    "import torch.nn.functional as F "
   ]
  },
  {
   "cell_type": "code",
   "execution_count": 103,
   "id": "e7cb4c6f-58d5-441b-a9ae-2453836cd636",
   "metadata": {},
   "outputs": [],
   "source": [
    "annotations_file = 'indexeddata.csv'"
   ]
  },
  {
   "cell_type": "code",
   "execution_count": 104,
   "id": "189e9783-d5a7-4e10-96e5-c2d069f2c71c",
   "metadata": {},
   "outputs": [],
   "source": [
    "class Ja3far(Dataset):\n",
    "    def __init__(self,annotations_file, transform=None, target_transform=None):\n",
    "        self.img_path_label = pd.read_csv(annotations_file)\n",
    "        self.transform = transform\n",
    "        self.target_transform = target_transform\n",
    "\n",
    "    def __len__(self):\n",
    "        return len(self.img_path_label)\n",
    "\n",
    "    def __getitem__(self, idx):\n",
    "        img_path = self.img_path_label.iloc[idx, 1]\n",
    "        image = read_image(img_path)\n",
    "        label = torch.tensor(self.img_path_label.iloc[idx, 2])\n",
    "        obj = (image, img_path)\n",
    "        if self.transform:\n",
    "            obj = self.transform(obj)\n",
    "        if self.target_transform:\n",
    "            label = self.target_transform(label)\n",
    "        return obj[0], label"
   ]
  },
  {
   "cell_type": "code",
   "execution_count": 111,
   "id": "4ff77405-c08f-48f5-9f3b-f4774b437046",
   "metadata": {},
   "outputs": [],
   "source": [
    "class GrayScale:\n",
    "    def __call__(self, obj):\n",
    "        gray_img = Grayscale()(obj[0])\n",
    "        gray_img = Resize((140, 140))(gray_img)\n",
    "        return gray_img, obj[1]\n",
    "class EditResolution:\n",
    "    def __call__(self, obj):\n",
    "        img = obj[0]\n",
    "        path = obj[1]\n",
    "        if(path[-3:] == 'png'):\n",
    "            img = Resize((640, 640))(img)\n",
    "        else:\n",
    "            img = Resize((1280, 1280))(img)\n",
    "        return img, path\n",
    "class RotateImage:\n",
    "    def __call__(self, obj):\n",
    "        rotater = RandomRotation(degrees=(0, 180))\n",
    "        rotated_img = rotater(obj[0])\n",
    "        return rotated_img, obj[1]\n",
    "class ConvertDtype:\n",
    "    def __call__(self, label):\n",
    "        label = label.to(torch.float)\n",
    "        return label"
   ]
  },
  {
   "cell_type": "code",
   "execution_count": 128,
   "id": "7e59897c-af90-421e-aaa1-52935de10d4f",
   "metadata": {},
   "outputs": [],
   "source": [
    "dataset = Ja3far(annotations_file,\n",
    "                 transform=transforms.Compose([EditResolution(), RotateImage(), GrayScale(),]),\n",
    "                 target_transform=transforms.Compose([ConvertDtype(),]))\n",
    "train_size, test_size = 0.7, 0.3\n",
    "training_data, test_data = torch.utils.data.random_split(dataset, [train_size, test_size])"
   ]
  },
  {
   "cell_type": "code",
   "execution_count": 136,
   "id": "bf7ea3e9-8727-4a0f-adb3-e36d99613026",
   "metadata": {},
   "outputs": [],
   "source": [
    "train_dataloader = DataLoader(training_data, batch_size=8, shuffle=True)\n",
    "test_dataloader = DataLoader(test_data, batch_size=8, shuffle=True)"
   ]
  },
  {
   "cell_type": "code",
   "execution_count": 143,
   "id": "96106b64-09d1-499b-bed2-f810a756dc3e",
   "metadata": {},
   "outputs": [],
   "source": [
    "class NeuralNetwork(nn.Module):\n",
    "    def __init__(self):\n",
    "        super().__init__()\n",
    "        self.flatten = nn.Flatten()\n",
    "        self.conv1 = nn.Conv2d(1, 12, 3)\n",
    "        self.conv2 = nn.Conv2d(12, 24, 3)\n",
    "        self.conv3 = nn.Conv2d(24, 36, 3)\n",
    "        self.l1 = nn.Linear(15 * 15 * 36, 200)\n",
    "        self.l2 = nn.Linear(200, 1)\n",
    "\n",
    "    def forward(self, x):\n",
    "        #x = self.flatten(x)\n",
    "        x = F.max_pool2d(F.relu(self.conv1(x)), 2)\n",
    "        x = F.max_pool2d(F.relu(self.conv2(x)), 2)\n",
    "        x = F.max_pool2d(F.relu(self.conv3(x)), 2)\n",
    "        x = x.view(-1, self.num_flat_features(x))\n",
    "        x = F.relu(self.l1(x))\n",
    "        x = F.relu(self.l2(x))\n",
    "        x = F.sigmoid(x)\n",
    "        return x\n",
    "    def num_flat_features(self, x):\n",
    "        size = x.size()[1:]  # all dimensions except the batch dimension\n",
    "        num_features = 1\n",
    "        for s in size:\n",
    "            num_features *= s\n",
    "        return num_features\n",
    "model = NeuralNetwork()\n",
    "loss_fn = torch.nn.BCELoss()\n",
    "optimizer = torch.optim.Adam(model.parameters(), lr=0.01, betas=[0.9, 0.999])"
   ]
  },
  {
   "cell_type": "code",
   "execution_count": 144,
   "id": "e34d8027-0a3b-486c-b8e2-082dceb263ca",
   "metadata": {},
   "outputs": [
    {
     "name": "stdout",
     "output_type": "stream",
     "text": [
      "  batch 1 loss: 0.0006931471824645996\n",
      "  batch 11 loss: 0.006931471824645996\n",
      "  batch 1 loss: 0.0006931471824645996\n",
      "  batch 11 loss: 0.006931471824645996\n",
      "  batch 1 loss: 0.0006931471824645996\n",
      "  batch 11 loss: 0.006931471824645996\n",
      "  batch 1 loss: 0.0006931471824645996\n",
      "  batch 11 loss: 0.006931471824645996\n",
      "  batch 1 loss: 0.0006931471824645996\n",
      "  batch 11 loss: 0.006931471824645996\n"
     ]
    }
   ],
   "source": [
    "def train_one_epoch(epoch_index):\n",
    "    running_loss = 0.\n",
    "    last_loss = 0.\n",
    "\n",
    "    for i, data in enumerate(train_dataloader):\n",
    "        # Every data instance is an input + label pair\n",
    "        inputs, labels = data\n",
    "        inputs = inputs.to(torch.float)\n",
    "        # Zero your gradients for every batch!\n",
    "        optimizer.zero_grad()\n",
    "        # Make predictions for this batch\n",
    "        outputs = model(inputs).squeeze()\n",
    "        # Compute the loss and its gradients\n",
    "        loss = loss_fn(outputs, labels)\n",
    "        loss.backward()\n",
    "\n",
    "        # Adjust learning weights\n",
    "        optimizer.step()\n",
    "\n",
    "        # Gather data and report\n",
    "        running_loss += loss.item()\n",
    "        if i % 10 == 0:\n",
    "            last_loss = running_loss / 1000 # loss per batch\n",
    "            print('  batch {} loss: {}'.format(i + 1, last_loss))\n",
    "            #tb_x = epoch_index * len(train_dataloader) + i + 1\n",
    "            #tb_writer.add_scalar('Loss/train', last_loss, tb_x)\n",
    "            running_loss = 0.\n",
    "\n",
    "    return last_loss\n",
    "epoches = 5\n",
    "for i in range(epoches):\n",
    "     train_one_epoch(i)"
   ]
  },
  {
   "cell_type": "code",
   "execution_count": 90,
   "id": "e4ea6f77-eaf9-4c13-9bb4-b4670297a4b9",
   "metadata": {},
   "outputs": [],
   "source": [
    "torch.save(model, 'model.pth')"
   ]
  },
  {
   "cell_type": "code",
   "execution_count": 145,
   "id": "b5c47db7-aeea-42fd-a44d-5814375915b7",
   "metadata": {},
   "outputs": [
    {
     "name": "stdout",
     "output_type": "stream",
     "text": [
      "Accuracy of the network on the 49 test images: 59 %\n"
     ]
    }
   ],
   "source": [
    "correct = 0\n",
    "total = 0\n",
    "with torch.no_grad():\n",
    "    for data in test_dataloader:\n",
    "        images, labels = data\n",
    "        outputs = model(images.to(torch.float))\n",
    "        _, predicted = torch.max(outputs.data, 1)\n",
    "        total += labels.size(0)\n",
    "        correct += (predicted == labels).sum().item()\n",
    "\n",
    "print(f'Accuracy of the network on the {total} test images: {100 * correct // total} %')"
   ]
  },
  {
   "cell_type": "code",
   "execution_count": 91,
   "id": "6c6c4681-7bb2-4284-bdd3-fb28bab63807",
   "metadata": {},
   "outputs": [
    {
     "name": "stdout",
     "output_type": "stream",
     "text": [
      "NeuralNetwork(\n",
      "  (flatten): Flatten(start_dim=1, end_dim=-1)\n",
      "  (conv1): Conv2d(1, 12, kernel_size=(3, 3), stride=(1, 1))\n",
      "  (conv2): Conv2d(12, 36, kernel_size=(3, 3), stride=(1, 1))\n",
      "  (l1): Linear(in_features=121104, out_features=400, bias=True)\n",
      "  (l2): Linear(in_features=400, out_features=1, bias=True)\n",
      ")\n"
     ]
    }
   ],
   "source": [
    "print(model)"
   ]
  }
 ],
 "metadata": {
  "kernelspec": {
   "display_name": "Python 3 (ipykernel)",
   "language": "python",
   "name": "python3"
  },
  "language_info": {
   "codemirror_mode": {
    "name": "ipython",
    "version": 3
   },
   "file_extension": ".py",
   "mimetype": "text/x-python",
   "name": "python",
   "nbconvert_exporter": "python",
   "pygments_lexer": "ipython3",
   "version": "3.12.0"
  }
 },
 "nbformat": 4,
 "nbformat_minor": 5
}
