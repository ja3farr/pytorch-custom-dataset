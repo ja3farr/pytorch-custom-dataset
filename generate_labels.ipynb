{
 "cells": [
  {
   "cell_type": "code",
   "execution_count": 1,
   "id": "c21a8a05-f00f-4441-959d-b98f198f8423",
   "metadata": {},
   "outputs": [],
   "source": [
    "import numpy as np\n",
    "import pandas as pd \n",
    "from PIL import Image\n",
    "import os\n",
    "import cv2"
   ]
  },
  {
   "cell_type": "code",
   "execution_count": 2,
   "id": "d3c83731-b0aa-4d91-a956-f8aa6eae694f",
   "metadata": {},
   "outputs": [
    {
     "name": "stdout",
     "output_type": "stream",
     "text": [
      "165\n"
     ]
    }
   ],
   "source": [
    "paths = []\n",
    "for dirname, _, filenames in os.walk('C:\\\\Users\\\\TU\\\\Documents\\\\locally\\\\face_classification'):\n",
    "    for filename in filenames:\n",
    "        paths.append(os.path.join(dirname, filename))\n",
    "print(len(paths))  "
   ]
  },
  {
   "cell_type": "code",
   "execution_count": 3,
   "id": "9cc934ef-248c-4f7a-98bb-f21152e3e8a2",
   "metadata": {},
   "outputs": [],
   "source": [
    "for i, path in enumerate(paths):\n",
    "    img = cv2.imread(path)\n",
    "    new_path = path.split('.')[:-1]\n",
    "    new_path = ''.join(new_path)\n",
    "    os.remove(path)\n",
    "    if(i >= 100):\n",
    "        cv2.imwrite(new_path + '.jpg', img)\n",
    "    else:\n",
    "        cv2.imwrite(new_path + '.png', img)\n",
    "    "
   ]
  },
  {
   "cell_type": "code",
   "execution_count": 4,
   "id": "b0b160d1-43ec-4700-8ff9-75a19586b7a3",
   "metadata": {},
   "outputs": [
    {
     "name": "stdout",
     "output_type": "stream",
     "text": [
      "{'png': 100, 'jpg': 65}\n"
     ]
    }
   ],
   "source": [
    "def explore_data():\n",
    "    types = dict()\n",
    "    for dirname, _, filenames in os.walk('C:/Users/TU/Documents/locally/face_classification'):\n",
    "        for filename in filenames:\n",
    "            last = filename.split('.')[-1]\n",
    "            if(last in types):\n",
    "                types[last] += 1\n",
    "            else :\n",
    "                types[last] = 1\n",
    "    print(types)\n",
    "explore_data()"
   ]
  },
  {
   "cell_type": "code",
   "execution_count": 5,
   "id": "c727f84a-3927-4a76-85a7-4a9b4d562ca6",
   "metadata": {},
   "outputs": [],
   "source": [
    "label = []\n",
    "for i in paths:\n",
    "    if('sad_person_face' in i):\n",
    "        label.append(1.)\n",
    "    else:\n",
    "        label.append(0.)"
   ]
  },
  {
   "cell_type": "code",
   "execution_count": 10,
   "id": "9252e563-ce28-404f-b2e3-9c5e775019f0",
   "metadata": {},
   "outputs": [
    {
     "data": {
      "text/html": [
       "<div>\n",
       "<style scoped>\n",
       "    .dataframe tbody tr th:only-of-type {\n",
       "        vertical-align: middle;\n",
       "    }\n",
       "\n",
       "    .dataframe tbody tr th {\n",
       "        vertical-align: top;\n",
       "    }\n",
       "\n",
       "    .dataframe thead th {\n",
       "        text-align: right;\n",
       "    }\n",
       "</style>\n",
       "<table border=\"1\" class=\"dataframe\">\n",
       "  <thead>\n",
       "    <tr style=\"text-align: right;\">\n",
       "      <th></th>\n",
       "      <th>path</th>\n",
       "      <th>label</th>\n",
       "    </tr>\n",
       "  </thead>\n",
       "  <tbody>\n",
       "    <tr>\n",
       "      <th>0</th>\n",
       "      <td>face_classification\\happy_person_face\\-human-e...</td>\n",
       "      <td>0.0</td>\n",
       "    </tr>\n",
       "    <tr>\n",
       "      <th>1</th>\n",
       "      <td>face_classification\\happy_person_face\\1000_F_1...</td>\n",
       "      <td>0.0</td>\n",
       "    </tr>\n",
       "    <tr>\n",
       "      <th>2</th>\n",
       "      <td>face_classification\\happy_person_face\\1000_F_2...</td>\n",
       "      <td>0.0</td>\n",
       "    </tr>\n",
       "    <tr>\n",
       "      <th>3</th>\n",
       "      <td>face_classification\\happy_person_face\\1000_F_2...</td>\n",
       "      <td>0.0</td>\n",
       "    </tr>\n",
       "    <tr>\n",
       "      <th>4</th>\n",
       "      <td>face_classification\\happy_person_face\\1000_F_2...</td>\n",
       "      <td>0.0</td>\n",
       "    </tr>\n",
       "  </tbody>\n",
       "</table>\n",
       "</div>"
      ],
      "text/plain": [
       "                                                path  label\n",
       "0  face_classification\\happy_person_face\\-human-e...    0.0\n",
       "1  face_classification\\happy_person_face\\1000_F_1...    0.0\n",
       "2  face_classification\\happy_person_face\\1000_F_2...    0.0\n",
       "3  face_classification\\happy_person_face\\1000_F_2...    0.0\n",
       "4  face_classification\\happy_person_face\\1000_F_2...    0.0"
      ]
     },
     "execution_count": 10,
     "metadata": {},
     "output_type": "execute_result"
    }
   ],
   "source": [
    "df = pd.DataFrame({\n",
    "    'path': paths,\n",
    "    'label': label,\n",
    "})\n",
    "df.head()"
   ]
  },
  {
   "cell_type": "code",
   "execution_count": 9,
   "id": "56f734b4-28a6-4f13-a9f6-935b5e49de78",
   "metadata": {},
   "outputs": [],
   "source": [
    "paths = [i[30:] for i in paths] # we get 30 by applying paths[0].find('face_classification')"
   ]
  },
  {
   "cell_type": "code",
   "execution_count": 11,
   "id": "d0747158-a096-4ce3-9815-b47c5ef8b44f",
   "metadata": {},
   "outputs": [],
   "source": [
    "df.to_csv('indexeddata.csv')"
   ]
  }
 ],
 "metadata": {
  "kernelspec": {
   "display_name": "Python 3 (ipykernel)",
   "language": "python",
   "name": "python3"
  },
  "language_info": {
   "codemirror_mode": {
    "name": "ipython",
    "version": 3
   },
   "file_extension": ".py",
   "mimetype": "text/x-python",
   "name": "python",
   "nbconvert_exporter": "python",
   "pygments_lexer": "ipython3",
   "version": "3.12.0"
  }
 },
 "nbformat": 4,
 "nbformat_minor": 5
}
